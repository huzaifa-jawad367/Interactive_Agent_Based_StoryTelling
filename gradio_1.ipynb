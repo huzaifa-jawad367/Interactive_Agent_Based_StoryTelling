{
  "nbformat": 4,
  "nbformat_minor": 0,
  "metadata": {
    "colab": {
      "provenance": []
    },
    "kernelspec": {
      "name": "python3",
      "display_name": "Python 3"
    },
    "language_info": {
      "name": "python"
    }
  },
  "cells": [
    {
      "cell_type": "code",
      "execution_count": 3,
      "metadata": {
        "colab": {
          "base_uri": "https://localhost:8080/",
          "height": 646
        },
        "id": "yQXY-p3NyEfb",
        "outputId": "7b5d08e0-6c7f-4516-cda1-b02256673276"
      },
      "outputs": [
        {
          "output_type": "stream",
          "name": "stdout",
          "text": [
            "It looks like you are running Gradio on a hosted a Jupyter notebook. For the Gradio app to work, sharing must be enabled. Automatically setting `share=True` (you can turn this off by setting `share=False` in `launch()` explicitly).\n",
            "\n",
            "Colab notebook detected. To show errors in colab notebook, set debug=True in launch()\n",
            "* Running on public URL: https://e66ce7c717916e6923.gradio.live\n",
            "\n",
            "This share link expires in 1 week. For free permanent hosting and GPU upgrades, run `gradio deploy` from the terminal in the working directory to deploy to Hugging Face Spaces (https://huggingface.co/spaces)\n"
          ]
        },
        {
          "output_type": "display_data",
          "data": {
            "text/plain": [
              "<IPython.core.display.HTML object>"
            ],
            "text/html": [
              "<div><iframe src=\"https://e66ce7c717916e6923.gradio.live\" width=\"100%\" height=\"500\" allow=\"autoplay; camera; microphone; clipboard-read; clipboard-write;\" frameborder=\"0\" allowfullscreen></iframe></div>"
            ]
          },
          "metadata": {}
        },
        {
          "output_type": "execute_result",
          "data": {
            "text/plain": []
          },
          "metadata": {},
          "execution_count": 3
        }
      ],
      "source": [
        " import gradio as gr\n",
        " def dummy_step(last_choice, state_json):\n",
        "    # For now, return static text + placeholder image/audio + dummy choices\n",
        "    scene = \"Welcome to the forest. It is raining. What do you do?\"\n",
        "    img = None  # placeholder\n",
        "    audio = None  # placeholder\n",
        "    choices = [\"Investigate the noise\", \"Run back home\"]\n",
        "    return scene, img, audio, choices, state_json\n",
        " with gr.Blocks() as demo:\n",
        "    state = gr.State(\"{}\")  # JSON-encoded StoryState\n",
        "    choice_buttons = gr.Radio(choices=[], label=\"What happens next?\")\n",
        "    scene_markdown = gr.Markdown()\n",
        "    image_display = gr.Image()\n",
        "    audio_display = gr.Audio()\n",
        "    next_btn = gr.Button(\"Next\")\n",
        "    next_btn.click(\n",
        "        fn=dummy_step,\n",
        "        inputs=[choice_buttons, state],\n",
        "        outputs=[scene_markdown, image_display, audio_display, choice_buttons, state],\n",
        "    )\n",
        " demo.launch()"
      ]
    },
    {
      "cell_type": "code",
      "source": [
        "import gradio as gr\n",
        "\n",
        "def chatbot_response(message):\n",
        "    return f\"Chatbot says: {message}\"\n",
        "\n",
        "def generate_audio(prompt):\n",
        "    return \"audio_example.wav\"  # Replace with actual audio generation logic\n",
        "\n",
        "def generate_image(prompt):\n",
        "    return \"image_example.png\"  # Replace with actual image generation logic\n",
        "\n",
        "with gr.Blocks(theme=gr.themes.Base(), css=\"body {background-color: #0e0e0e;}\") as demo:\n",
        "    gr.Markdown(\n",
        "        \"\"\"\n",
        "        <div style='text-align: center; margin-top: 4em; color: white;'>\n",
        "            <p style='background-color: #111111; display: inline-block; padding: 0.5em 1em; border-radius: 0.5em; color: #00FFC2;'>New</p>\n",
        "            <p>The API is now in beta. <a style='color: #00FFC2;' href='#'>Learn More</a></p>\n",
        "            <h1 style='font-size: 3em;'>What can I help you ship?</h1>\n",
        "        </div>\n",
        "        \"\"\"\n",
        "    )\n",
        "\n",
        "    with gr.Row(elem_id=\"input_row\", equal_height=True):\n",
        "        chatbot_input = gr.Textbox(placeholder=\"Ask the assistant to build...\", label=\"Chat Input\", lines=1, scale=8)\n",
        "        submit_btn = gr.Button(\"↵\", scale=1)\n",
        "\n",
        "    chat_output = gr.Textbox(label=\"Chatbot Output\")\n",
        "\n",
        "    with gr.Row():\n",
        "        image_btn = gr.Button(\"🖼️ Image Generation\")\n",
        "        audio_btn = gr.Button(\"🎧 Audio Generation\")\n",
        "\n",
        "    submit_btn.click(fn=chatbot_response, inputs=chatbot_input, outputs=chat_output)\n",
        "    image_btn.click(fn=generate_image, inputs=chatbot_input, outputs=None)\n",
        "    audio_btn.click(fn=generate_audio, inputs=chatbot_input, outputs=None)\n",
        "\n",
        "demo.launch()\n"
      ],
      "metadata": {
        "colab": {
          "base_uri": "https://localhost:8080/",
          "height": 646
        },
        "id": "6NtrZkX3yGAN",
        "outputId": "c7830849-9476-498f-943d-a361d1028c74"
      },
      "execution_count": 4,
      "outputs": [
        {
          "output_type": "stream",
          "name": "stdout",
          "text": [
            "It looks like you are running Gradio on a hosted a Jupyter notebook. For the Gradio app to work, sharing must be enabled. Automatically setting `share=True` (you can turn this off by setting `share=False` in `launch()` explicitly).\n",
            "\n",
            "Colab notebook detected. To show errors in colab notebook, set debug=True in launch()\n",
            "* Running on public URL: https://d91f7978245ed84194.gradio.live\n",
            "\n",
            "This share link expires in 1 week. For free permanent hosting and GPU upgrades, run `gradio deploy` from the terminal in the working directory to deploy to Hugging Face Spaces (https://huggingface.co/spaces)\n"
          ]
        },
        {
          "output_type": "display_data",
          "data": {
            "text/plain": [
              "<IPython.core.display.HTML object>"
            ],
            "text/html": [
              "<div><iframe src=\"https://d91f7978245ed84194.gradio.live\" width=\"100%\" height=\"500\" allow=\"autoplay; camera; microphone; clipboard-read; clipboard-write;\" frameborder=\"0\" allowfullscreen></iframe></div>"
            ]
          },
          "metadata": {}
        },
        {
          "output_type": "execute_result",
          "data": {
            "text/plain": []
          },
          "metadata": {},
          "execution_count": 4
        }
      ]
    },
    {
      "cell_type": "code",
      "source": [
        "import gradio as gr\n",
        "\n",
        "# Dummy response functions\n",
        "def chatbot_response(message):\n",
        "    return gr.update(value=f\"Chatbot says: {message}\", visible=True)\n",
        "\n",
        "def generate_image(prompt):\n",
        "    return gr.update(value=\"/content/2.png\", visible=True)\n",
        "\n",
        "def generate_audio(prompt):\n",
        "    return None  # Extend if needed\n",
        "\n",
        "with gr.Blocks(theme=gr.themes.Base(), css=\"body {background-color: #0e0e0e;}\") as demo:\n",
        "    gr.Markdown(\n",
        "        \"\"\"\n",
        "        <div style='text-align: center; margin-top: 4em; color: white;'>\n",
        "            <p style='background-color: #111111; display: inline-block; padding: 0.5em 1em; border-radius: 0.5em; color: #00FFC2;'>New</p>\n",
        "            <p>The API is now in beta. <a style='color: #00FFC2;' href='#'>Learn More</a></p>\n",
        "            <h1 style='font-size: 3em;'>What can I help you ship?</h1>\n",
        "        </div>\n",
        "        \"\"\"\n",
        "    )\n",
        "\n",
        "    with gr.Row():\n",
        "        chatbot_input = gr.Textbox(placeholder=\"Ask the assistant to build...\", label=\"Chat Input\", lines=1, scale=8)\n",
        "        submit_btn = gr.Button(\"↵\", scale=1)\n",
        "\n",
        "    chat_output = gr.Textbox(label=\"Chatbot Output\", visible=False)\n",
        "\n",
        "    with gr.Row():\n",
        "        image_btn = gr.Button(\"🖼️ Image Generation\")\n",
        "        audio_btn = gr.Button(\"🎧 Audio Generation\")\n",
        "\n",
        "    image_output = gr.Image(label=\"Generated Image\", visible=False)\n",
        "\n",
        "    submit_btn.click(fn=chatbot_response, inputs=chatbot_input, outputs=chat_output)\n",
        "    image_btn.click(fn=generate_image, inputs=chatbot_input, outputs=image_output)\n",
        "\n",
        "demo.launch()\n"
      ],
      "metadata": {
        "colab": {
          "base_uri": "https://localhost:8080/",
          "height": 646
        },
        "id": "Lyj_EdByyLnj",
        "outputId": "956f6e42-0a06-4df5-e0b0-fbe3ebb28190"
      },
      "execution_count": 7,
      "outputs": [
        {
          "output_type": "stream",
          "name": "stdout",
          "text": [
            "It looks like you are running Gradio on a hosted a Jupyter notebook. For the Gradio app to work, sharing must be enabled. Automatically setting `share=True` (you can turn this off by setting `share=False` in `launch()` explicitly).\n",
            "\n",
            "Colab notebook detected. To show errors in colab notebook, set debug=True in launch()\n",
            "* Running on public URL: https://a7b3fed7980d1870b9.gradio.live\n",
            "\n",
            "This share link expires in 1 week. For free permanent hosting and GPU upgrades, run `gradio deploy` from the terminal in the working directory to deploy to Hugging Face Spaces (https://huggingface.co/spaces)\n"
          ]
        },
        {
          "output_type": "display_data",
          "data": {
            "text/plain": [
              "<IPython.core.display.HTML object>"
            ],
            "text/html": [
              "<div><iframe src=\"https://a7b3fed7980d1870b9.gradio.live\" width=\"100%\" height=\"500\" allow=\"autoplay; camera; microphone; clipboard-read; clipboard-write;\" frameborder=\"0\" allowfullscreen></iframe></div>"
            ]
          },
          "metadata": {}
        },
        {
          "output_type": "execute_result",
          "data": {
            "text/plain": []
          },
          "metadata": {},
          "execution_count": 7
        }
      ]
    },
    {
      "cell_type": "code",
      "source": [],
      "metadata": {
        "id": "NRKD4E0Ez1Ye"
      },
      "execution_count": null,
      "outputs": []
    }
  ]
}